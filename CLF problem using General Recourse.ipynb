{
 "cells": [
  {
   "cell_type": "code",
   "execution_count": 76,
   "metadata": {},
   "outputs": [],
   "source": [
    "import gurobipy as gp\n",
    "from gurobipy import GRB, quicksum\n",
    "import numpy as np\n",
    "import time\n",
    "\n"
   ]
  },
  {
   "cell_type": "code",
   "execution_count": 77,
   "metadata": {},
   "outputs": [],
   "source": [
    "UB=1000\n",
    "LB=-1000\n",
    "prob=0.2\n",
    "scenario=[0.6,0.8,1,1.2,1.4]\n",
    "S=len(scenario)\n",
    "P=[[] for i in range(len(scenario))]\n",
    "R=[[] for i in range(len(scenario))]\n",
    "\n",
    "f=20\n",
    "I=10\n",
    "J=5\n",
    "c = [[1.3, 0.7, 0.1, 0.3, 0.0, 0.9, 1.0, 0.1, 0.3, 0.1],\n",
    "     [0.0, 0.2, 0.3, 0.2, 0.9, 0.4, 0.2, 0.8, 0.1, 0.6],\n",
    "     [0.4, 0.3, 1.5, 0.0, 0.5, 0.5, 0.2, 0.4, 1.0, 0.4],\n",
    "     [0.5, 0.5, 0.2, 0.1, 0.7, 0.8, 0.8, 0.2, 0.0, 1.1],\n",
    "     [0.2, 0.3, 0.1, 0.7, 0.2, 0.9, 0.4, 0.6, 0.3, 1.4]]\n",
    "C = 100\n",
    "f = 20\n",
    "d = [15, 23, 26, 12, 31, 19, 25, 17, 21, 14]"
   ]
  },
  {
   "cell_type": "code",
   "execution_count": 81,
   "metadata": {},
   "outputs": [
    {
     "name": "stdout",
     "output_type": "stream",
     "text": [
      "Gurobi Optimizer version 9.1.1 build v9.1.1rc0 (win64)\n",
      "Thread count: 6 physical cores, 12 logical processors, using up to 12 threads\n",
      "Optimize a model with 75 rows, 255 columns and 525 nonzeros\n",
      "Model fingerprint: 0x4c4bb134\n",
      "Variable types: 250 continuous, 5 integer (5 binary)\n",
      "Coefficient statistics:\n",
      "  Matrix range     [1e+00, 1e+02]\n",
      "  Objective range  [2e-02, 2e+01]\n",
      "  Bounds range     [1e+00, 1e+00]\n",
      "  RHS range        [7e+00, 4e+01]\n",
      "Presolve time: 0.00s\n",
      "Presolved: 75 rows, 255 columns, 525 nonzeros\n",
      "Variable types: 250 continuous, 5 integer (5 binary)\n",
      "\n",
      "Root relaxation: objective 7.974000e+01, 53 iterations, 0.00 seconds\n",
      "\n",
      "    Nodes    |    Current Node    |     Objective Bounds      |     Work\n",
      " Expl Unexpl |  Obj  Depth IntInf | Incumbent    BestBd   Gap | It/Node Time\n",
      "\n",
      "     0     0   79.74000    0    3          -   79.74000      -     -    0s\n",
      "H    0     0                     122.9000000   79.74000  35.1%     -    0s\n",
      "     0     0   82.53445    0    2  122.90000   82.53445  32.8%     -    0s\n",
      "H    0     0                     105.6944490   82.53445  21.9%     -    0s\n",
      "H    0     0                     104.3960000   82.53445  20.9%     -    0s\n",
      "H    0     0                      88.8320000   82.53445  7.09%     -    0s\n",
      "H    0     0                      86.8000000   82.53445  4.91%     -    0s\n",
      "H    0     0                      85.5640000   82.53445  3.54%     -    0s\n",
      "     0     0   83.39600    0    3   85.56400   83.39600  2.53%     -    0s\n",
      "\n",
      "Cutting planes:\n",
      "  Gomory: 1\n",
      "  Implied bound: 21\n",
      "  MIR: 4\n",
      "  Flow cover: 5\n",
      "\n",
      "Explored 1 nodes (83 simplex iterations) in 0.02 seconds\n",
      "Thread count was 12 (of 12 available processors)\n",
      "\n",
      "Solution count 5: 85.564 86.8 104.396 ... 122.9\n",
      "\n",
      "Optimal solution found (tolerance 1.00e-04)\n",
      "Best objective 8.556400000000e+01, best bound 8.556400000000e+01, gap 0.0000%\n",
      "Objective value : 85.564\n",
      "Factories to Open :  [1.0, 1.0, -0.0, 1.0, -0.0]\n",
      "runtime : 0.03593049995834008\n"
     ]
    }
   ],
   "source": [
    "tic=time.perf_counter()\n",
    "general=gp.Model()\n",
    "x=general.addVars(J ,vtype=GRB.BINARY ,name='x')\n",
    "y=general.addVars(I,J,S, vtype=GRB.CONTINUOUS, name='y')\n",
    "\n",
    "objective=0\n",
    "for s in range(S):\n",
    "     \n",
    "    for i in range (I):\n",
    "        for j in range(J):\n",
    "            objective+=prob*c[j][i]*y[i,j,s]\n",
    "        \n",
    "\n",
    "    for i in range(I):\n",
    "        general.addConstr(quicksum(y[i,j,s]  for j in range(J))==d[i]*scenario[s])\n",
    "\n",
    "\n",
    "    for j in range (J):\n",
    "        general.addConstr(quicksum(y[i,j,s] for i in range(I))<=C*x[j])\n",
    "\n",
    "\n",
    "general.setObjective(quicksum(f*x[j] for j in range(J))+objective, GRB.MINIMIZE)\n",
    "\n",
    "\n",
    "general.optimize()\n",
    "\n",
    "xs=[]\n",
    "for i in range(5):\n",
    "    xs.append(x[i].x)\n",
    "toc=time.perf_counter()\n",
    "print('Objective value :' ,general.objVal)\n",
    "print('Factories to Open : ',xs)\n",
    "print('runtime :', toc-tic)\n"
   ]
  }
 ],
 "metadata": {
  "kernelspec": {
   "display_name": "Python 3",
   "language": "python",
   "name": "python3"
  },
  "language_info": {
   "codemirror_mode": {
    "name": "ipython",
    "version": 3
   },
   "file_extension": ".py",
   "mimetype": "text/x-python",
   "name": "python",
   "nbconvert_exporter": "python",
   "pygments_lexer": "ipython3",
   "version": "3.8.5"
  }
 },
 "nbformat": 4,
 "nbformat_minor": 4
}
