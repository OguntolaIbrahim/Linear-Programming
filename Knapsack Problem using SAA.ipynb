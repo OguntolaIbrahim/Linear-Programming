{
 "cells": [
  {
   "cell_type": "code",
   "execution_count": 1,
   "metadata": {},
   "outputs": [],
   "source": [
    "import gurobipy as gp\n",
    "from gurobipy import GRB, quicksum\n",
    "import numpy as np\n",
    "\n"
   ]
  },
  {
   "cell_type": "code",
   "execution_count": 3,
   "metadata": {},
   "outputs": [],
   "source": [
    "a=[[6.1,5.93,8.66,10.28,5.13,6.33,8.6,10.1,7.53,8.63],\n",
    "  [15.92,10.36,7.44,10.76,16.13,9.69,17.87,11.17,13.24,8.93],\n",
    "  [15.99,12.71,12.27,16.24,8.07,19.74,10.8,9.34,10.82,13.17],\n",
    "  [16.19,22.78,24.22,19.90,12.32,19.09,12.18,16.57,19.87,15.96],\n",
    "  [19.21,24.14,19.42,28.63,27.66,28.45,25.38,23.67,25.11,29.59],\n",
    "  [21.35,30.72,16.91,19.68,28.94,26.82,26.03,21.50,22.15,26.74]]\n",
    "N=10\n",
    "M=100000\n"
   ]
  },
  {
   "cell_type": "code",
   "execution_count": 93,
   "metadata": {},
   "outputs": [
    {
     "name": "stdout",
     "output_type": "stream",
     "text": [
      "Gurobi Optimizer version 9.1.1 build v9.1.1rc0 (win64)\n",
      "Thread count: 6 physical cores, 12 logical processors, using up to 12 threads\n",
      "Optimize a model with 11 rows, 16 columns and 80 nonzeros\n",
      "Model fingerprint: 0x4492f66c\n",
      "Variable types: 0 continuous, 16 integer (16 binary)\n",
      "Coefficient statistics:\n",
      "  Matrix range     [1e-01, 1e+05]\n",
      "  Objective range  [3e+00, 1e+01]\n",
      "  Bounds range     [1e+00, 1e+00]\n",
      "  RHS range        [1e-01, 6e+01]\n",
      "Found heuristic solution: objective 22.0000000\n",
      "Presolve time: 0.00s\n",
      "Presolved: 11 rows, 16 columns, 80 nonzeros\n",
      "Variable types: 0 continuous, 16 integer (16 binary)\n",
      "\n",
      "Root relaxation: objective 2.768364e+01, 13 iterations, 0.00 seconds\n",
      "\n",
      "    Nodes    |    Current Node    |     Objective Bounds      |     Work\n",
      " Expl Unexpl |  Obj  Depth IntInf | Incumbent    BestBd   Gap | It/Node Time\n",
      "\n",
      "     0     0   27.68364    0    9   22.00000   27.68364  25.8%     -    0s\n",
      "H    0     0                      23.0000000   27.68364  20.4%     -    0s\n",
      "H    0     0                      24.0000000   27.68364  15.3%     -    0s\n",
      "     0     0   25.00000    0   13   24.00000   25.00000  4.17%     -    0s\n",
      "     0     0   24.00000    0   14   24.00000   24.00000  0.00%     -    0s\n",
      "\n",
      "Cutting planes:\n",
      "  Cover: 3\n",
      "  MIR: 2\n",
      "  Zero half: 1\n",
      "  RLT: 1\n",
      "\n",
      "Explored 1 nodes (24 simplex iterations) in 0.03 seconds\n",
      "Thread count was 12 (of 12 available processors)\n",
      "\n",
      "Solution count 3: 24 23 22 \n",
      "\n",
      "Optimal solution found (tolerance 1.00e-04)\n",
      "Best objective 2.400000000000e+01, best bound 2.400000000000e+01, gap 0.0000%\n",
      "\n",
      "    Variable            x \n",
      "-------------------------\n",
      "        x[1]            1 \n",
      "        x[3]            1 \n",
      "        x[5]            1 \n",
      "        Z[1]            1 \n"
     ]
    },
    {
     "data": {
      "text/plain": [
       "24.0"
      ]
     },
     "execution_count": 93,
     "metadata": {},
     "output_type": "execute_result"
    }
   ],
   "source": [
    "#Sample Average Approximation\n",
    "knap=gp.Model()\n",
    "x=knap.addVars(6,vtype=GRB.BINARY, name='x')\n",
    "gamma=0.1\n",
    "Z=knap.addVars(10,vtype=GRB.BINARY, name='Z')\n",
    "\n",
    "knap.setObjective(3*x[0] +5*x[1]+6*x[2] +8*x[3]+10*x[4]+11*x[5],GRB.MAXIMIZE)\n",
    "\n",
    "for n in range(10):\n",
    "    obj=0\n",
    "    for i in range(6):\n",
    "        obj+=a[i][n]*x[i]\n",
    "\n",
    "    knap.addConstr(obj-60<=M*Z[n])\n",
    "\n",
    "knap.addConstr(quicksum(0.1*Z[n] for n in range(N))<=gamma)   \n",
    "    \n",
    "    \n",
    "knap.optimize()\n",
    "\n",
    "knap.printAttr('x')\n",
    "knap.objVal\n",
    "xs=[]\n",
    "for i in range(6):\n",
    "    xs.append(x[i].x)\n",
    "\n",
    "x=xs\n",
    "knap.objVal"
   ]
  },
  {
   "cell_type": "code",
   "execution_count": 92,
   "metadata": {},
   "outputs": [
    {
     "data": {
      "text/plain": [
       "[0.0, 1.0, 0.0, 1.0, 0.0, 1.0]"
      ]
     },
     "execution_count": 92,
     "metadata": {},
     "output_type": "execute_result"
    }
   ],
   "source": [
    "x"
   ]
  }
 ],
 "metadata": {
  "kernelspec": {
   "display_name": "Python 3 (ipykernel)",
   "language": "python",
   "name": "python3"
  },
  "language_info": {
   "codemirror_mode": {
    "name": "ipython",
    "version": 3
   },
   "file_extension": ".py",
   "mimetype": "text/x-python",
   "name": "python",
   "nbconvert_exporter": "python",
   "pygments_lexer": "ipython3",
   "version": "3.9.7"
  }
 },
 "nbformat": 4,
 "nbformat_minor": 4
}
